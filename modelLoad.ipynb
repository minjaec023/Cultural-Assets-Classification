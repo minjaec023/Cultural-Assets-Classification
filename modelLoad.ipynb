{
 "cells": [
  {
   "cell_type": "code",
   "execution_count": 5,
   "metadata": {
    "scrolled": true
   },
   "outputs": [
    {
     "name": "stdout",
     "output_type": "stream",
     "text": [
      "Model: \"sequential_10\"\n",
      "_________________________________________________________________\n",
      "Layer (type)                 Output Shape              Param #   \n",
      "=================================================================\n",
      "conv2d_52 (Conv2D)           (None, 128, 128, 120)     1200      \n",
      "_________________________________________________________________\n",
      "max_pooling2d_50 (MaxPooling (None, 64, 64, 120)       0         \n",
      "_________________________________________________________________\n",
      "dropout_50 (Dropout)         (None, 64, 64, 120)       0         \n",
      "_________________________________________________________________\n",
      "conv2d_53 (Conv2D)           (None, 64, 64, 120)       129720    \n",
      "_________________________________________________________________\n",
      "max_pooling2d_51 (MaxPooling (None, 32, 32, 120)       0         \n",
      "_________________________________________________________________\n",
      "dropout_51 (Dropout)         (None, 32, 32, 120)       0         \n",
      "_________________________________________________________________\n",
      "conv2d_54 (Conv2D)           (None, 32, 32, 120)       129720    \n",
      "_________________________________________________________________\n",
      "max_pooling2d_52 (MaxPooling (None, 16, 16, 120)       0         \n",
      "_________________________________________________________________\n",
      "dropout_52 (Dropout)         (None, 16, 16, 120)       0         \n",
      "_________________________________________________________________\n",
      "conv2d_55 (Conv2D)           (None, 16, 16, 120)       129720    \n",
      "_________________________________________________________________\n",
      "max_pooling2d_53 (MaxPooling (None, 8, 8, 120)         0         \n",
      "_________________________________________________________________\n",
      "dropout_53 (Dropout)         (None, 8, 8, 120)         0         \n",
      "_________________________________________________________________\n",
      "conv2d_56 (Conv2D)           (None, 8, 8, 1024)        1106944   \n",
      "_________________________________________________________________\n",
      "max_pooling2d_54 (MaxPooling (None, 4, 4, 1024)        0         \n",
      "_________________________________________________________________\n",
      "dropout_54 (Dropout)         (None, 4, 4, 1024)        0         \n",
      "_________________________________________________________________\n",
      "flatten_10 (Flatten)         (None, 16384)             0         \n",
      "_________________________________________________________________\n",
      "dense_10 (Dense)             (None, 20)                327700    \n",
      "=================================================================\n",
      "Total params: 1,825,004\n",
      "Trainable params: 1,825,004\n",
      "Non-trainable params: 0\n",
      "_________________________________________________________________\n",
      "(128, 128, 3)\n",
      "(128, 128)\n",
      "[[0 0 0 ... 0 0 0]\n",
      " [0 0 0 ... 0 0 0]\n",
      " [0 0 0 ... 0 0 0]\n",
      " ...\n",
      " [0 0 0 ... 0 0 0]\n",
      " [0 0 0 ... 0 0 0]\n",
      " [0 0 0 ... 0 0 0]]\n",
      "The Answer is  [19]\n"
     ]
    },
    {
     "data": {
      "image/png": "[encoded data removed]",
      "text/plain": [
       "<Figure size 432x288 with 1 Axes>"
      ]
     },
     "metadata": {
      "needs_background": "light"
     },
     "output_type": "display_data"
    }
   ],
   "source": [
    "# from keras.models import load_model\n",
    "import os\n",
    "import cv2\n",
    "import numpy as np\n",
    "import tensorflow as tf\n",
    "from numpy import array, argmax\n",
    "import matplotlib.pyplot as plt\n",
    "\n",
    "model = tf.keras.models.load_model('ruins_CNN_model.004.h5')\n",
    "model.summary()\n",
    "path = 'C:/Users/osh14/Desktop/Former Seoul Station Building_19.jpg'\n",
    "train_input = []\n",
    "img = cv2.imread(path, cv2.IMREAD_COLOR)\n",
    "\n",
    "reimg = cv2.resize(img, dsize=(128, 128), interpolation=cv2.INTER_AREA)\n",
    "print(reimg.shape)\n",
    "edges = cv2.Canny(reimg,100,150)\n",
    "print(edges.shape)\n",
    "# cv2.imwrite('C:/Users/sehun/Desktop/edge2.jpg', edges)\n",
    "\n",
    "# train_input.append([np.array(edges)])\n",
    "\n",
    "# xhat = np.reshape(edges, (1, 128, 128, 1))\n",
    "\n",
    "# xhat1 = np.array(xhat).astype(np.float32)\n",
    "# # print(xhat1.shape)\n",
    "# # print(xhat1)\n",
    "# xhat1 = xhat1 / 255.0\n",
    "# # print(xhat1.shape)\n",
    "# # print(xhat1)\n",
    "print(edges)\n",
    "plt.imshow(edges, cmap='Greys', interpolation='nearest')\n",
    "xhat1 = edges.astype('float32') / 255.0\n",
    "plt.imshow(xhat1, cmap='Greys', interpolation='nearest');\n",
    "xhat2 = xhat1.reshape(1, 128, 128, 1)\n",
    "# # print(xhat2)\n",
    "# # print(xhat2.shape)\n",
    "print('The Answer is ', model.predict_classes(xhat2))"
   ]
  },
  {
   "cell_type": "code",
   "execution_count": null,
   "metadata": {},
   "outputs": [],
   "source": []
  }
 ],
 "metadata": {
  "kernelspec": {
   "display_name": "Python 3",
   "language": "python",
   "name": "python3"
  },
  "language_info": {
   "codemirror_mode": {
    "name": "ipython",
    "version": 3
   },
   "file_extension": ".py",
   "mimetype": "text/x-python",
   "name": "python",
   "nbconvert_exporter": "python",
   "pygments_lexer": "ipython3",
   "version": "3.7.3"
  }
 },
 "nbformat": 4,
 "nbformat_minor": 2
}
